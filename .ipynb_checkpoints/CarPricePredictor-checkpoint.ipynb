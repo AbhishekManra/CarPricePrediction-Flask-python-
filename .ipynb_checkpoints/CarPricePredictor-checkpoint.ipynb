{
 "cells": [
  {
   "cell_type": "code",
   "execution_count": 52,
   "id": "532bb48e",
   "metadata": {},
   "outputs": [],
   "source": [
    "import pandas as pd"
   ]
  },
  {
   "cell_type": "code",
   "execution_count": 53,
   "id": "0af38a18",
   "metadata": {},
   "outputs": [],
   "source": [
    "import numpy as np"
   ]
  },
  {
   "cell_type": "code",
   "execution_count": 54,
   "id": "ecbf26c8",
   "metadata": {},
   "outputs": [],
   "source": [
    "df = pd.read_csv('quikr_car.csv')"
   ]
  },
  {
   "cell_type": "code",
   "execution_count": 55,
   "id": "36c05cc6",
   "metadata": {},
   "outputs": [
    {
     "data": {
      "text/plain": "                                     name   company  year          Price  \\\n0    Hyundai Santro Xing XO eRLX Euro III   Hyundai  2007         80,000   \n1                 Mahindra Jeep CL550 MDI  Mahindra  2006       4,25,000   \n2              Maruti Suzuki Alto 800 Vxi    Maruti  2018  Ask For Price   \n3  Hyundai Grand i10 Magna 1.2 Kappa VTVT   Hyundai  2014       3,25,000   \n4        Ford EcoSport Titanium 1.5L TDCi      Ford  2014       5,75,000   \n5        Ford EcoSport Titanium 1.5L TDCi      Ford  2015  Ask For Price   \n\n   kms_driven fuel_type  \n0  45,000 kms    Petrol  \n1      40 kms    Diesel  \n2  22,000 kms    Petrol  \n3  28,000 kms    Petrol  \n4  36,000 kms    Diesel  \n5  59,000 kms    Diesel  ",
      "text/html": "<div>\n<style scoped>\n    .dataframe tbody tr th:only-of-type {\n        vertical-align: middle;\n    }\n\n    .dataframe tbody tr th {\n        vertical-align: top;\n    }\n\n    .dataframe thead th {\n        text-align: right;\n    }\n</style>\n<table border=\"1\" class=\"dataframe\">\n  <thead>\n    <tr style=\"text-align: right;\">\n      <th></th>\n      <th>name</th>\n      <th>company</th>\n      <th>year</th>\n      <th>Price</th>\n      <th>kms_driven</th>\n      <th>fuel_type</th>\n    </tr>\n  </thead>\n  <tbody>\n    <tr>\n      <th>0</th>\n      <td>Hyundai Santro Xing XO eRLX Euro III</td>\n      <td>Hyundai</td>\n      <td>2007</td>\n      <td>80,000</td>\n      <td>45,000 kms</td>\n      <td>Petrol</td>\n    </tr>\n    <tr>\n      <th>1</th>\n      <td>Mahindra Jeep CL550 MDI</td>\n      <td>Mahindra</td>\n      <td>2006</td>\n      <td>4,25,000</td>\n      <td>40 kms</td>\n      <td>Diesel</td>\n    </tr>\n    <tr>\n      <th>2</th>\n      <td>Maruti Suzuki Alto 800 Vxi</td>\n      <td>Maruti</td>\n      <td>2018</td>\n      <td>Ask For Price</td>\n      <td>22,000 kms</td>\n      <td>Petrol</td>\n    </tr>\n    <tr>\n      <th>3</th>\n      <td>Hyundai Grand i10 Magna 1.2 Kappa VTVT</td>\n      <td>Hyundai</td>\n      <td>2014</td>\n      <td>3,25,000</td>\n      <td>28,000 kms</td>\n      <td>Petrol</td>\n    </tr>\n    <tr>\n      <th>4</th>\n      <td>Ford EcoSport Titanium 1.5L TDCi</td>\n      <td>Ford</td>\n      <td>2014</td>\n      <td>5,75,000</td>\n      <td>36,000 kms</td>\n      <td>Diesel</td>\n    </tr>\n    <tr>\n      <th>5</th>\n      <td>Ford EcoSport Titanium 1.5L TDCi</td>\n      <td>Ford</td>\n      <td>2015</td>\n      <td>Ask For Price</td>\n      <td>59,000 kms</td>\n      <td>Diesel</td>\n    </tr>\n  </tbody>\n</table>\n</div>"
     },
     "execution_count": 55,
     "metadata": {},
     "output_type": "execute_result"
    }
   ],
   "source": [
    "df[0:6]"
   ]
  },
  {
   "cell_type": "code",
   "execution_count": 56,
   "id": "6da944ff",
   "metadata": {},
   "outputs": [
    {
     "name": "stdout",
     "output_type": "stream",
     "text": [
      "<class 'pandas.core.frame.DataFrame'>\n",
      "RangeIndex: 892 entries, 0 to 891\n",
      "Data columns (total 6 columns):\n",
      " #   Column      Non-Null Count  Dtype \n",
      "---  ------      --------------  ----- \n",
      " 0   name        892 non-null    object\n",
      " 1   company     892 non-null    object\n",
      " 2   year        892 non-null    object\n",
      " 3   Price       892 non-null    object\n",
      " 4   kms_driven  840 non-null    object\n",
      " 5   fuel_type   837 non-null    object\n",
      "dtypes: object(6)\n",
      "memory usage: 41.9+ KB\n"
     ]
    }
   ],
   "source": [
    "df.info()"
   ]
  },
  {
   "cell_type": "code",
   "execution_count": 57,
   "id": "3e4f3d37",
   "metadata": {},
   "outputs": [
    {
     "data": {
      "text/plain": "array(['2007', '2006', '2018', '2014', '2015', '2012', '2013', '2016',\n       '2010', '2017', '2008', '2011', '2019', '2009', '2005', '2000',\n       '...', '150k', 'TOUR', '2003', 'r 15', '2004', 'Zest', '/-Rs',\n       'sale', '1995', 'ara)', '2002', 'SELL', '2001', 'tion', 'odel',\n       '2 bs', 'arry', 'Eon', 'o...', 'ture', 'emi', 'car', 'able', 'no.',\n       'd...', 'SALE', 'digo', 'sell', 'd Ex', 'n...', 'e...', 'D...',\n       ', Ac', 'go .', 'k...', 'o c4', 'zire', 'cent', 'Sumo', 'cab',\n       't xe', 'EV2', 'r...', 'zest'], dtype=object)"
     },
     "execution_count": 57,
     "metadata": {},
     "output_type": "execute_result"
    }
   ],
   "source": [
    "df['year'].unique()"
   ]
  },
  {
   "cell_type": "code",
   "execution_count": 58,
   "id": "116790d1",
   "metadata": {},
   "outputs": [
    {
     "data": {
      "text/plain": "array(['80,000', '4,25,000', 'Ask For Price', '3,25,000', '5,75,000',\n       '1,75,000', '1,90,000', '8,30,000', '2,50,000', '1,82,000',\n       '3,15,000', '4,15,000', '3,20,000', '10,00,000', '5,00,000',\n       '3,50,000', '1,60,000', '3,10,000', '75,000', '1,00,000',\n       '2,90,000', '95,000', '1,80,000', '3,85,000', '1,05,000',\n       '6,50,000', '6,89,999', '4,48,000', '5,49,000', '5,01,000',\n       '4,89,999', '2,80,000', '3,49,999', '2,84,999', '3,45,000',\n       '4,99,999', '2,35,000', '2,49,999', '14,75,000', '3,95,000',\n       '2,20,000', '1,70,000', '85,000', '2,00,000', '5,70,000',\n       '1,10,000', '4,48,999', '18,91,111', '1,59,500', '3,44,999',\n       '4,49,999', '8,65,000', '6,99,000', '3,75,000', '2,24,999',\n       '12,00,000', '1,95,000', '3,51,000', '2,40,000', '90,000',\n       '1,55,000', '6,00,000', '1,89,500', '2,10,000', '3,90,000',\n       '1,35,000', '16,00,000', '7,01,000', '2,65,000', '5,25,000',\n       '3,72,000', '6,35,000', '5,50,000', '4,85,000', '3,29,500',\n       '2,51,111', '5,69,999', '69,999', '2,99,999', '3,99,999',\n       '4,50,000', '2,70,000', '1,58,400', '1,79,000', '1,25,000',\n       '2,99,000', '1,50,000', '2,75,000', '2,85,000', '3,40,000',\n       '70,000', '2,89,999', '8,49,999', '7,49,999', '2,74,999',\n       '9,84,999', '5,99,999', '2,44,999', '4,74,999', '2,45,000',\n       '1,69,500', '3,70,000', '1,68,000', '1,45,000', '98,500',\n       '2,09,000', '1,85,000', '9,00,000', '6,99,999', '1,99,999',\n       '5,44,999', '1,99,000', '5,40,000', '49,000', '7,00,000', '55,000',\n       '8,95,000', '3,55,000', '5,65,000', '3,65,000', '40,000',\n       '4,00,000', '3,30,000', '5,80,000', '3,79,000', '2,19,000',\n       '5,19,000', '7,30,000', '20,00,000', '21,00,000', '14,00,000',\n       '3,11,000', '8,55,000', '5,35,000', '1,78,000', '3,00,000',\n       '2,55,000', '5,49,999', '3,80,000', '57,000', '4,10,000',\n       '2,25,000', '1,20,000', '59,000', '5,99,000', '6,75,000', '72,500',\n       '6,10,000', '2,30,000', '5,20,000', '5,24,999', '4,24,999',\n       '6,44,999', '5,84,999', '7,99,999', '4,44,999', '6,49,999',\n       '9,44,999', '5,74,999', '3,74,999', '1,30,000', '4,01,000',\n       '13,50,000', '1,74,999', '2,39,999', '99,999', '3,24,999',\n       '10,74,999', '11,30,000', '1,49,000', '7,70,000', '30,000',\n       '3,35,000', '3,99,000', '65,000', '1,69,999', '1,65,000',\n       '5,60,000', '9,50,000', '7,15,000', '45,000', '9,40,000',\n       '1,55,555', '15,00,000', '4,95,000', '8,00,000', '12,99,000',\n       '5,30,000', '14,99,000', '32,000', '4,05,000', '7,60,000',\n       '7,50,000', '4,19,000', '1,40,000', '15,40,000', '1,23,000',\n       '4,98,000', '4,80,000', '4,88,000', '15,25,000', '5,48,900',\n       '7,25,000', '99,000', '52,000', '28,00,000', '4,99,000',\n       '3,81,000', '2,78,000', '6,90,000', '2,60,000', '90,001',\n       '1,15,000', '15,99,000', '1,59,000', '51,999', '2,15,000',\n       '35,000', '11,50,000', '2,69,000', '60,000', '4,30,000',\n       '85,00,003', '4,01,919', '4,90,000', '4,24,000', '2,05,000',\n       '5,49,900', '3,71,500', '4,35,000', '1,89,700', '3,89,700',\n       '3,60,000', '2,95,000', '1,14,990', '10,65,000', '4,70,000',\n       '48,000', '1,88,000', '4,65,000', '1,79,999', '21,90,000',\n       '23,90,000', '10,75,000', '4,75,000', '10,25,000', '6,15,000',\n       '19,00,000', '14,90,000', '15,10,000', '18,50,000', '7,90,000',\n       '17,25,000', '12,25,000', '68,000', '9,70,000', '31,00,000',\n       '8,99,000', '88,000', '53,000', '5,68,500', '71,000', '5,90,000',\n       '7,95,000', '42,000', '1,89,000', '1,62,000', '35,999',\n       '29,00,000', '39,999', '50,500', '5,10,000', '8,60,000',\n       '5,00,001'], dtype=object)"
     },
     "execution_count": 58,
     "metadata": {},
     "output_type": "execute_result"
    }
   ],
   "source": [
    "df['Price'].unique()"
   ]
  },
  {
   "cell_type": "code",
   "execution_count": 59,
   "id": "0115f7b6",
   "metadata": {},
   "outputs": [
    {
     "data": {
      "text/plain": "array(['Petrol', 'Diesel', nan, 'LPG'], dtype=object)"
     },
     "execution_count": 59,
     "metadata": {},
     "output_type": "execute_result"
    }
   ],
   "source": [
    "df['fuel_type'].unique()"
   ]
  },
  {
   "cell_type": "code",
   "execution_count": 60,
   "id": "6d37ddb5",
   "metadata": {},
   "outputs": [
    {
     "data": {
      "text/plain": "array(['45,000 kms', '40 kms', '22,000 kms', '28,000 kms', '36,000 kms',\n       '59,000 kms', '41,000 kms', '25,000 kms', '24,530 kms',\n       '60,000 kms', '30,000 kms', '32,000 kms', '48,660 kms',\n       '4,000 kms', '16,934 kms', '43,000 kms', '35,550 kms',\n       '39,522 kms', '39,000 kms', '55,000 kms', '72,000 kms',\n       '15,975 kms', '70,000 kms', '23,452 kms', '35,522 kms',\n       '48,508 kms', '15,487 kms', '82,000 kms', '20,000 kms',\n       '68,000 kms', '38,000 kms', '27,000 kms', '33,000 kms',\n       '46,000 kms', '16,000 kms', '47,000 kms', '35,000 kms',\n       '30,874 kms', '15,000 kms', '29,685 kms', '1,30,000 kms',\n       '19,000 kms', nan, '54,000 kms', '13,000 kms', '38,200 kms',\n       '50,000 kms', '13,500 kms', '3,600 kms', '45,863 kms',\n       '60,500 kms', '12,500 kms', '18,000 kms', '13,349 kms',\n       '29,000 kms', '44,000 kms', '42,000 kms', '14,000 kms',\n       '49,000 kms', '36,200 kms', '51,000 kms', '1,04,000 kms',\n       '33,333 kms', '33,600 kms', '5,600 kms', '7,500 kms', '26,000 kms',\n       '24,330 kms', '65,480 kms', '28,028 kms', '2,00,000 kms',\n       '99,000 kms', '2,800 kms', '21,000 kms', '11,000 kms',\n       '66,000 kms', '3,000 kms', '7,000 kms', '38,500 kms', '37,200 kms',\n       '43,200 kms', '24,800 kms', '45,872 kms', '40,000 kms',\n       '11,400 kms', '97,200 kms', '52,000 kms', '31,000 kms',\n       '1,75,430 kms', '37,000 kms', '65,000 kms', '3,350 kms',\n       '75,000 kms', '62,000 kms', '73,000 kms', '2,200 kms',\n       '54,870 kms', '34,580 kms', '97,000 kms', '60 kms', '80,200 kms',\n       '3,200 kms', '0,000 kms', '5,000 kms', '588 kms', '71,200 kms',\n       '1,75,400 kms', '9,300 kms', '56,758 kms', '10,000 kms',\n       '56,450 kms', '56,000 kms', '32,700 kms', '9,000 kms', '73 kms',\n       '1,60,000 kms', '84,000 kms', '58,559 kms', '57,000 kms',\n       '1,70,000 kms', '80,000 kms', '6,821 kms', '23,000 kms',\n       '34,000 kms', '1,800 kms', '4,00,000 kms', '48,000 kms',\n       '90,000 kms', '12,000 kms', '69,900 kms', '1,66,000 kms',\n       '122 kms', '0 kms', '24,000 kms', '36,469 kms', '7,800 kms',\n       '24,695 kms', '15,141 kms', '59,910 kms', '1,00,000 kms',\n       '4,500 kms', '1,29,000 kms', '300 kms', '1,31,000 kms',\n       '1,11,111 kms', '59,466 kms', '25,500 kms', '44,005 kms',\n       '2,110 kms', '43,222 kms', '1,00,200 kms', '65 kms',\n       '1,40,000 kms', '1,03,553 kms', '58,000 kms', '1,20,000 kms',\n       '49,800 kms', '100 kms', '81,876 kms', '6,020 kms', '55,700 kms',\n       '18,500 kms', '1,80,000 kms', '53,000 kms', '35,500 kms',\n       '22,134 kms', '1,000 kms', '8,500 kms', '87,000 kms', '6,000 kms',\n       '15,574 kms', '8,000 kms', '55,800 kms', '56,400 kms',\n       '72,160 kms', '11,500 kms', '1,33,000 kms', '2,000 kms',\n       '88,000 kms', '65,422 kms', '1,17,000 kms', '1,50,000 kms',\n       '10,750 kms', '6,800 kms', '5 kms', '9,800 kms', '57,923 kms',\n       '30,201 kms', '6,200 kms', '37,518 kms', '24,652 kms', '383 kms',\n       '95,000 kms', '3,528 kms', '52,500 kms', '47,900 kms',\n       '52,800 kms', '1,95,000 kms', '48,008 kms', '48,247 kms',\n       '9,400 kms', '64,000 kms', '2,137 kms', '10,544 kms', '49,500 kms',\n       '1,47,000 kms', '90,001 kms', '48,006 kms', '74,000 kms',\n       '85,000 kms', '29,500 kms', '39,700 kms', '67,000 kms',\n       '19,336 kms', '60,105 kms', '45,933 kms', '1,02,563 kms',\n       '28,600 kms', '41,800 kms', '1,16,000 kms', '42,590 kms',\n       '7,400 kms', '54,500 kms', '76,000 kms', '00 kms', '11,523 kms',\n       '38,600 kms', '95,500 kms', '37,458 kms', '85,960 kms',\n       '12,516 kms', '30,600 kms', '2,550 kms', '62,500 kms',\n       '69,000 kms', '28,400 kms', '68,485 kms', '3,500 kms',\n       '85,455 kms', '63,000 kms', '1,600 kms', '77,000 kms',\n       '26,500 kms', '2,875 kms', '13,900 kms', '1,500 kms', '2,450 kms',\n       '1,625 kms', '33,400 kms', '60,123 kms', '38,900 kms',\n       '1,37,495 kms', '91,200 kms', '1,46,000 kms', '1,00,800 kms',\n       '2,100 kms', '2,500 kms', '1,32,000 kms', 'Petrol'], dtype=object)"
     },
     "execution_count": 60,
     "metadata": {},
     "output_type": "execute_result"
    }
   ],
   "source": [
    "df['kms_driven'].unique()"
   ]
  },
  {
   "cell_type": "markdown",
   "id": "f23dde36",
   "metadata": {},
   "source": [
    " ## Points noted from the data\n",
    " - Year has null and non-year values\n",
    " - year must be an int not an object\n",
    " - Price is also an object it must be integers\n",
    " - fuel type and kms_driven has nan values\n",
    " - 'name' column has not proper Naming category\n",
    " "
   ]
  },
  {
   "cell_type": "markdown",
   "id": "be29470d",
   "metadata": {},
   "source": [
    "# Cleaning data"
   ]
  },
  {
   "cell_type": "markdown",
   "id": "8e113fa8",
   "metadata": {},
   "source": [
    "## Year has null and non-year values\n",
    " \n",
    " "
   ]
  },
  {
   "cell_type": "code",
   "execution_count": 61,
   "id": "6d975bd1",
   "metadata": {},
   "outputs": [],
   "source": [
    "df = df[df['year'].str.isnumeric()]"
   ]
  },
  {
   "cell_type": "code",
   "execution_count": 62,
   "id": "9c6ad461",
   "metadata": {},
   "outputs": [],
   "source": [
    "df['year'] = df['year'].astype(int) # this fuctions casts "
   ]
  },
  {
   "cell_type": "code",
   "execution_count": 63,
   "id": "4c26699b",
   "metadata": {},
   "outputs": [
    {
     "name": "stdout",
     "output_type": "stream",
     "text": [
      "<class 'pandas.core.frame.DataFrame'>\n",
      "Int64Index: 842 entries, 0 to 891\n",
      "Data columns (total 6 columns):\n",
      " #   Column      Non-Null Count  Dtype \n",
      "---  ------      --------------  ----- \n",
      " 0   name        842 non-null    object\n",
      " 1   company     842 non-null    object\n",
      " 2   year        842 non-null    int32 \n",
      " 3   Price       842 non-null    object\n",
      " 4   kms_driven  840 non-null    object\n",
      " 5   fuel_type   837 non-null    object\n",
      "dtypes: int32(1), object(5)\n",
      "memory usage: 42.8+ KB\n"
     ]
    }
   ],
   "source": [
    "df.info()"
   ]
  },
  {
   "cell_type": "code",
   "execution_count": 64,
   "id": "a8aee9d5",
   "metadata": {},
   "outputs": [
    {
     "data": {
      "text/plain": "array([2007, 2006, 2018, 2014, 2015, 2012, 2013, 2016, 2010, 2017, 2008,\n       2011, 2019, 2009, 2005, 2000, 2003, 2004, 1995, 2002, 2001])"
     },
     "execution_count": 64,
     "metadata": {},
     "output_type": "execute_result"
    }
   ],
   "source": [
    "df['year'].unique()"
   ]
  },
  {
   "cell_type": "markdown",
   "id": "7a408a94",
   "metadata": {},
   "source": [
    "## Price is also an object it must be integers\n",
    "## Price has 'asked for price' "
   ]
  },
  {
   "cell_type": "code",
   "execution_count": 65,
   "id": "411c082f",
   "metadata": {},
   "outputs": [],
   "source": [
    "df = df[df['Price']!='Ask For Price']"
   ]
  },
  {
   "cell_type": "code",
   "execution_count": 66,
   "id": "63c719f9",
   "metadata": {},
   "outputs": [
    {
     "data": {
      "text/plain": "                                     name   company  year     Price  \\\n0    Hyundai Santro Xing XO eRLX Euro III   Hyundai  2007    80,000   \n1                 Mahindra Jeep CL550 MDI  Mahindra  2006  4,25,000   \n3  Hyundai Grand i10 Magna 1.2 Kappa VTVT   Hyundai  2014  3,25,000   \n4        Ford EcoSport Titanium 1.5L TDCi      Ford  2014  5,75,000   \n6                               Ford Figo      Ford  2012  1,75,000   \n\n   kms_driven fuel_type  \n0  45,000 kms    Petrol  \n1      40 kms    Diesel  \n3  28,000 kms    Petrol  \n4  36,000 kms    Diesel  \n6  41,000 kms    Diesel  ",
      "text/html": "<div>\n<style scoped>\n    .dataframe tbody tr th:only-of-type {\n        vertical-align: middle;\n    }\n\n    .dataframe tbody tr th {\n        vertical-align: top;\n    }\n\n    .dataframe thead th {\n        text-align: right;\n    }\n</style>\n<table border=\"1\" class=\"dataframe\">\n  <thead>\n    <tr style=\"text-align: right;\">\n      <th></th>\n      <th>name</th>\n      <th>company</th>\n      <th>year</th>\n      <th>Price</th>\n      <th>kms_driven</th>\n      <th>fuel_type</th>\n    </tr>\n  </thead>\n  <tbody>\n    <tr>\n      <th>0</th>\n      <td>Hyundai Santro Xing XO eRLX Euro III</td>\n      <td>Hyundai</td>\n      <td>2007</td>\n      <td>80,000</td>\n      <td>45,000 kms</td>\n      <td>Petrol</td>\n    </tr>\n    <tr>\n      <th>1</th>\n      <td>Mahindra Jeep CL550 MDI</td>\n      <td>Mahindra</td>\n      <td>2006</td>\n      <td>4,25,000</td>\n      <td>40 kms</td>\n      <td>Diesel</td>\n    </tr>\n    <tr>\n      <th>3</th>\n      <td>Hyundai Grand i10 Magna 1.2 Kappa VTVT</td>\n      <td>Hyundai</td>\n      <td>2014</td>\n      <td>3,25,000</td>\n      <td>28,000 kms</td>\n      <td>Petrol</td>\n    </tr>\n    <tr>\n      <th>4</th>\n      <td>Ford EcoSport Titanium 1.5L TDCi</td>\n      <td>Ford</td>\n      <td>2014</td>\n      <td>5,75,000</td>\n      <td>36,000 kms</td>\n      <td>Diesel</td>\n    </tr>\n    <tr>\n      <th>6</th>\n      <td>Ford Figo</td>\n      <td>Ford</td>\n      <td>2012</td>\n      <td>1,75,000</td>\n      <td>41,000 kms</td>\n      <td>Diesel</td>\n    </tr>\n  </tbody>\n</table>\n</div>"
     },
     "execution_count": 66,
     "metadata": {},
     "output_type": "execute_result"
    }
   ],
   "source": [
    "df.head()"
   ]
  },
  {
   "cell_type": "code",
   "execution_count": 67,
   "id": "00684925",
   "metadata": {},
   "outputs": [],
   "source": [
    "df['Price'] = df['Price'].str.replace(',','').astype(int)  # by this we converted our 'Price' to string."
   ]
  },
  {
   "cell_type": "code",
   "execution_count": 68,
   "id": "a086ffae",
   "metadata": {},
   "outputs": [
    {
     "name": "stdout",
     "output_type": "stream",
     "text": [
      "<class 'pandas.core.frame.DataFrame'>\n",
      "Int64Index: 819 entries, 0 to 891\n",
      "Data columns (total 6 columns):\n",
      " #   Column      Non-Null Count  Dtype \n",
      "---  ------      --------------  ----- \n",
      " 0   name        819 non-null    object\n",
      " 1   company     819 non-null    object\n",
      " 2   year        819 non-null    int32 \n",
      " 3   Price       819 non-null    int32 \n",
      " 4   kms_driven  819 non-null    object\n",
      " 5   fuel_type   816 non-null    object\n",
      "dtypes: int32(2), object(4)\n",
      "memory usage: 38.4+ KB\n"
     ]
    }
   ],
   "source": [
    "df.info()"
   ]
  },
  {
   "cell_type": "markdown",
   "id": "5e5527c2",
   "metadata": {},
   "source": [
    "## fuel type and kms_driven has nan values"
   ]
  },
  {
   "cell_type": "code",
   "execution_count": 69,
   "id": "d8f602fb",
   "metadata": {},
   "outputs": [],
   "source": [
    "df['kms_driven'] = df['kms_driven'].str.split().str.get(0).str.replace(',','')"
   ]
  },
  {
   "cell_type": "code",
   "execution_count": 70,
   "id": "552c7e01",
   "metadata": {},
   "outputs": [],
   "source": [
    "df = df[df['kms_driven'].str.isnumeric()]"
   ]
  },
  {
   "cell_type": "code",
   "execution_count": 71,
   "id": "c3004e13",
   "metadata": {},
   "outputs": [],
   "source": [
    "df['kms_driven'] = df['kms_driven'].astype(int)"
   ]
  },
  {
   "cell_type": "code",
   "execution_count": 72,
   "id": "8a6433ee",
   "metadata": {},
   "outputs": [
    {
     "data": {
      "text/plain": "                                     name   company  year   Price  kms_driven  \\\n0    Hyundai Santro Xing XO eRLX Euro III   Hyundai  2007   80000       45000   \n1                 Mahindra Jeep CL550 MDI  Mahindra  2006  425000          40   \n3  Hyundai Grand i10 Magna 1.2 Kappa VTVT   Hyundai  2014  325000       28000   \n4        Ford EcoSport Titanium 1.5L TDCi      Ford  2014  575000       36000   \n6                               Ford Figo      Ford  2012  175000       41000   \n\n  fuel_type  \n0    Petrol  \n1    Diesel  \n3    Petrol  \n4    Diesel  \n6    Diesel  ",
      "text/html": "<div>\n<style scoped>\n    .dataframe tbody tr th:only-of-type {\n        vertical-align: middle;\n    }\n\n    .dataframe tbody tr th {\n        vertical-align: top;\n    }\n\n    .dataframe thead th {\n        text-align: right;\n    }\n</style>\n<table border=\"1\" class=\"dataframe\">\n  <thead>\n    <tr style=\"text-align: right;\">\n      <th></th>\n      <th>name</th>\n      <th>company</th>\n      <th>year</th>\n      <th>Price</th>\n      <th>kms_driven</th>\n      <th>fuel_type</th>\n    </tr>\n  </thead>\n  <tbody>\n    <tr>\n      <th>0</th>\n      <td>Hyundai Santro Xing XO eRLX Euro III</td>\n      <td>Hyundai</td>\n      <td>2007</td>\n      <td>80000</td>\n      <td>45000</td>\n      <td>Petrol</td>\n    </tr>\n    <tr>\n      <th>1</th>\n      <td>Mahindra Jeep CL550 MDI</td>\n      <td>Mahindra</td>\n      <td>2006</td>\n      <td>425000</td>\n      <td>40</td>\n      <td>Diesel</td>\n    </tr>\n    <tr>\n      <th>3</th>\n      <td>Hyundai Grand i10 Magna 1.2 Kappa VTVT</td>\n      <td>Hyundai</td>\n      <td>2014</td>\n      <td>325000</td>\n      <td>28000</td>\n      <td>Petrol</td>\n    </tr>\n    <tr>\n      <th>4</th>\n      <td>Ford EcoSport Titanium 1.5L TDCi</td>\n      <td>Ford</td>\n      <td>2014</td>\n      <td>575000</td>\n      <td>36000</td>\n      <td>Diesel</td>\n    </tr>\n    <tr>\n      <th>6</th>\n      <td>Ford Figo</td>\n      <td>Ford</td>\n      <td>2012</td>\n      <td>175000</td>\n      <td>41000</td>\n      <td>Diesel</td>\n    </tr>\n  </tbody>\n</table>\n</div>"
     },
     "execution_count": 72,
     "metadata": {},
     "output_type": "execute_result"
    }
   ],
   "source": [
    "df.head()"
   ]
  },
  {
   "cell_type": "code",
   "execution_count": 73,
   "id": "5bab8724",
   "metadata": {},
   "outputs": [],
   "source": [
    "# removed nul values from fuel-type\n",
    "df = df[~df['fuel_type'].isna()]"
   ]
  },
  {
   "cell_type": "code",
   "execution_count": 74,
   "id": "c55d4bc9",
   "metadata": {},
   "outputs": [
    {
     "data": {
      "text/plain": "                                     name   company  year   Price  kms_driven  \\\n0    Hyundai Santro Xing XO eRLX Euro III   Hyundai  2007   80000       45000   \n1                 Mahindra Jeep CL550 MDI  Mahindra  2006  425000          40   \n3  Hyundai Grand i10 Magna 1.2 Kappa VTVT   Hyundai  2014  325000       28000   \n4        Ford EcoSport Titanium 1.5L TDCi      Ford  2014  575000       36000   \n6                               Ford Figo      Ford  2012  175000       41000   \n\n  fuel_type  \n0    Petrol  \n1    Diesel  \n3    Petrol  \n4    Diesel  \n6    Diesel  ",
      "text/html": "<div>\n<style scoped>\n    .dataframe tbody tr th:only-of-type {\n        vertical-align: middle;\n    }\n\n    .dataframe tbody tr th {\n        vertical-align: top;\n    }\n\n    .dataframe thead th {\n        text-align: right;\n    }\n</style>\n<table border=\"1\" class=\"dataframe\">\n  <thead>\n    <tr style=\"text-align: right;\">\n      <th></th>\n      <th>name</th>\n      <th>company</th>\n      <th>year</th>\n      <th>Price</th>\n      <th>kms_driven</th>\n      <th>fuel_type</th>\n    </tr>\n  </thead>\n  <tbody>\n    <tr>\n      <th>0</th>\n      <td>Hyundai Santro Xing XO eRLX Euro III</td>\n      <td>Hyundai</td>\n      <td>2007</td>\n      <td>80000</td>\n      <td>45000</td>\n      <td>Petrol</td>\n    </tr>\n    <tr>\n      <th>1</th>\n      <td>Mahindra Jeep CL550 MDI</td>\n      <td>Mahindra</td>\n      <td>2006</td>\n      <td>425000</td>\n      <td>40</td>\n      <td>Diesel</td>\n    </tr>\n    <tr>\n      <th>3</th>\n      <td>Hyundai Grand i10 Magna 1.2 Kappa VTVT</td>\n      <td>Hyundai</td>\n      <td>2014</td>\n      <td>325000</td>\n      <td>28000</td>\n      <td>Petrol</td>\n    </tr>\n    <tr>\n      <th>4</th>\n      <td>Ford EcoSport Titanium 1.5L TDCi</td>\n      <td>Ford</td>\n      <td>2014</td>\n      <td>575000</td>\n      <td>36000</td>\n      <td>Diesel</td>\n    </tr>\n    <tr>\n      <th>6</th>\n      <td>Ford Figo</td>\n      <td>Ford</td>\n      <td>2012</td>\n      <td>175000</td>\n      <td>41000</td>\n      <td>Diesel</td>\n    </tr>\n  </tbody>\n</table>\n</div>"
     },
     "execution_count": 74,
     "metadata": {},
     "output_type": "execute_result"
    }
   ],
   "source": [
    "df.head()"
   ]
  },
  {
   "cell_type": "markdown",
   "id": "47c15f2a",
   "metadata": {},
   "source": [
    "## name' column has not proper Naming category\n"
   ]
  },
  {
   "cell_type": "code",
   "execution_count": 75,
   "id": "147d4c49",
   "metadata": {},
   "outputs": [],
   "source": [
    "df['name'] = df['name'].str.split(' ').str.slice(0,3).str.join(' ')"
   ]
  },
  {
   "cell_type": "code",
   "execution_count": 76,
   "id": "26f75033",
   "metadata": {
    "scrolled": true
   },
   "outputs": [
    {
     "name": "stdout",
     "output_type": "stream",
     "text": [
      "<class 'pandas.core.frame.DataFrame'>\n",
      "Int64Index: 816 entries, 0 to 889\n",
      "Data columns (total 6 columns):\n",
      " #   Column      Non-Null Count  Dtype \n",
      "---  ------      --------------  ----- \n",
      " 0   name        816 non-null    object\n",
      " 1   company     816 non-null    object\n",
      " 2   year        816 non-null    int32 \n",
      " 3   Price       816 non-null    int32 \n",
      " 4   kms_driven  816 non-null    int32 \n",
      " 5   fuel_type   816 non-null    object\n",
      "dtypes: int32(3), object(3)\n",
      "memory usage: 35.1+ KB\n"
     ]
    }
   ],
   "source": [
    "df.info()"
   ]
  },
  {
   "cell_type": "markdown",
   "id": "bd9c5eea",
   "metadata": {},
   "source": [
    "# Reseting the index to aviod improper index"
   ]
  },
  {
   "cell_type": "code",
   "execution_count": 77,
   "id": "7de3b065",
   "metadata": {},
   "outputs": [
    {
     "data": {
      "text/plain": "              year         Price     kms_driven\ncount   816.000000  8.160000e+02     816.000000\nmean   2012.444853  4.117176e+05   46275.531863\nstd       4.002992  4.751844e+05   34297.428044\nmin    1995.000000  3.000000e+04       0.000000\n25%    2010.000000  1.750000e+05   27000.000000\n50%    2013.000000  2.999990e+05   41000.000000\n75%    2015.000000  4.912500e+05   56818.500000\nmax    2019.000000  8.500003e+06  400000.000000",
      "text/html": "<div>\n<style scoped>\n    .dataframe tbody tr th:only-of-type {\n        vertical-align: middle;\n    }\n\n    .dataframe tbody tr th {\n        vertical-align: top;\n    }\n\n    .dataframe thead th {\n        text-align: right;\n    }\n</style>\n<table border=\"1\" class=\"dataframe\">\n  <thead>\n    <tr style=\"text-align: right;\">\n      <th></th>\n      <th>year</th>\n      <th>Price</th>\n      <th>kms_driven</th>\n    </tr>\n  </thead>\n  <tbody>\n    <tr>\n      <th>count</th>\n      <td>816.000000</td>\n      <td>8.160000e+02</td>\n      <td>816.000000</td>\n    </tr>\n    <tr>\n      <th>mean</th>\n      <td>2012.444853</td>\n      <td>4.117176e+05</td>\n      <td>46275.531863</td>\n    </tr>\n    <tr>\n      <th>std</th>\n      <td>4.002992</td>\n      <td>4.751844e+05</td>\n      <td>34297.428044</td>\n    </tr>\n    <tr>\n      <th>min</th>\n      <td>1995.000000</td>\n      <td>3.000000e+04</td>\n      <td>0.000000</td>\n    </tr>\n    <tr>\n      <th>25%</th>\n      <td>2010.000000</td>\n      <td>1.750000e+05</td>\n      <td>27000.000000</td>\n    </tr>\n    <tr>\n      <th>50%</th>\n      <td>2013.000000</td>\n      <td>2.999990e+05</td>\n      <td>41000.000000</td>\n    </tr>\n    <tr>\n      <th>75%</th>\n      <td>2015.000000</td>\n      <td>4.912500e+05</td>\n      <td>56818.500000</td>\n    </tr>\n    <tr>\n      <th>max</th>\n      <td>2019.000000</td>\n      <td>8.500003e+06</td>\n      <td>400000.000000</td>\n    </tr>\n  </tbody>\n</table>\n</div>"
     },
     "execution_count": 77,
     "metadata": {},
     "output_type": "execute_result"
    }
   ],
   "source": [
    "df.describe()"
   ]
  },
  {
   "cell_type": "code",
   "execution_count": 78,
   "id": "3efc1482",
   "metadata": {},
   "outputs": [
    {
     "data": {
      "text/plain": "     index                    name   company  year   Price  kms_driven  \\\n0        0     Hyundai Santro Xing   Hyundai  2007   80000       45000   \n1        1     Mahindra Jeep CL550  Mahindra  2006  425000          40   \n2        3       Hyundai Grand i10   Hyundai  2014  325000       28000   \n3        4  Ford EcoSport Titanium      Ford  2014  575000       36000   \n4        6               Ford Figo      Ford  2012  175000       41000   \n..     ...                     ...       ...   ...     ...         ...   \n811    883      Maruti Suzuki Ritz    Maruti  2011  270000       50000   \n812    885          Tata Indica V2      Tata  2009  110000       30000   \n813    886    Toyota Corolla Altis    Toyota  2009  300000      132000   \n814    888            Tata Zest XM      Tata  2018  260000       27000   \n815    889      Mahindra Quanto C8  Mahindra  2013  390000       40000   \n\n    fuel_type  \n0      Petrol  \n1      Diesel  \n2      Petrol  \n3      Diesel  \n4      Diesel  \n..        ...  \n811    Petrol  \n812    Diesel  \n813    Petrol  \n814    Diesel  \n815    Diesel  \n\n[816 rows x 7 columns]",
      "text/html": "<div>\n<style scoped>\n    .dataframe tbody tr th:only-of-type {\n        vertical-align: middle;\n    }\n\n    .dataframe tbody tr th {\n        vertical-align: top;\n    }\n\n    .dataframe thead th {\n        text-align: right;\n    }\n</style>\n<table border=\"1\" class=\"dataframe\">\n  <thead>\n    <tr style=\"text-align: right;\">\n      <th></th>\n      <th>index</th>\n      <th>name</th>\n      <th>company</th>\n      <th>year</th>\n      <th>Price</th>\n      <th>kms_driven</th>\n      <th>fuel_type</th>\n    </tr>\n  </thead>\n  <tbody>\n    <tr>\n      <th>0</th>\n      <td>0</td>\n      <td>Hyundai Santro Xing</td>\n      <td>Hyundai</td>\n      <td>2007</td>\n      <td>80000</td>\n      <td>45000</td>\n      <td>Petrol</td>\n    </tr>\n    <tr>\n      <th>1</th>\n      <td>1</td>\n      <td>Mahindra Jeep CL550</td>\n      <td>Mahindra</td>\n      <td>2006</td>\n      <td>425000</td>\n      <td>40</td>\n      <td>Diesel</td>\n    </tr>\n    <tr>\n      <th>2</th>\n      <td>3</td>\n      <td>Hyundai Grand i10</td>\n      <td>Hyundai</td>\n      <td>2014</td>\n      <td>325000</td>\n      <td>28000</td>\n      <td>Petrol</td>\n    </tr>\n    <tr>\n      <th>3</th>\n      <td>4</td>\n      <td>Ford EcoSport Titanium</td>\n      <td>Ford</td>\n      <td>2014</td>\n      <td>575000</td>\n      <td>36000</td>\n      <td>Diesel</td>\n    </tr>\n    <tr>\n      <th>4</th>\n      <td>6</td>\n      <td>Ford Figo</td>\n      <td>Ford</td>\n      <td>2012</td>\n      <td>175000</td>\n      <td>41000</td>\n      <td>Diesel</td>\n    </tr>\n    <tr>\n      <th>...</th>\n      <td>...</td>\n      <td>...</td>\n      <td>...</td>\n      <td>...</td>\n      <td>...</td>\n      <td>...</td>\n      <td>...</td>\n    </tr>\n    <tr>\n      <th>811</th>\n      <td>883</td>\n      <td>Maruti Suzuki Ritz</td>\n      <td>Maruti</td>\n      <td>2011</td>\n      <td>270000</td>\n      <td>50000</td>\n      <td>Petrol</td>\n    </tr>\n    <tr>\n      <th>812</th>\n      <td>885</td>\n      <td>Tata Indica V2</td>\n      <td>Tata</td>\n      <td>2009</td>\n      <td>110000</td>\n      <td>30000</td>\n      <td>Diesel</td>\n    </tr>\n    <tr>\n      <th>813</th>\n      <td>886</td>\n      <td>Toyota Corolla Altis</td>\n      <td>Toyota</td>\n      <td>2009</td>\n      <td>300000</td>\n      <td>132000</td>\n      <td>Petrol</td>\n    </tr>\n    <tr>\n      <th>814</th>\n      <td>888</td>\n      <td>Tata Zest XM</td>\n      <td>Tata</td>\n      <td>2018</td>\n      <td>260000</td>\n      <td>27000</td>\n      <td>Diesel</td>\n    </tr>\n    <tr>\n      <th>815</th>\n      <td>889</td>\n      <td>Mahindra Quanto C8</td>\n      <td>Mahindra</td>\n      <td>2013</td>\n      <td>390000</td>\n      <td>40000</td>\n      <td>Diesel</td>\n    </tr>\n  </tbody>\n</table>\n<p>816 rows × 7 columns</p>\n</div>"
     },
     "execution_count": 78,
     "metadata": {},
     "output_type": "execute_result"
    }
   ],
   "source": [
    "df.reset_index()"
   ]
  },
  {
   "cell_type": "code",
   "execution_count": 79,
   "id": "e3ed2578",
   "metadata": {},
   "outputs": [
    {
     "name": "stdout",
     "output_type": "stream",
     "text": [
      "<class 'pandas.core.frame.DataFrame'>\n",
      "Int64Index: 816 entries, 0 to 889\n",
      "Data columns (total 6 columns):\n",
      " #   Column      Non-Null Count  Dtype \n",
      "---  ------      --------------  ----- \n",
      " 0   name        816 non-null    object\n",
      " 1   company     816 non-null    object\n",
      " 2   year        816 non-null    int32 \n",
      " 3   Price       816 non-null    int32 \n",
      " 4   kms_driven  816 non-null    int32 \n",
      " 5   fuel_type   816 non-null    object\n",
      "dtypes: int32(3), object(3)\n",
      "memory usage: 35.1+ KB\n"
     ]
    }
   ],
   "source": [
    "df.info()"
   ]
  },
  {
   "cell_type": "code",
   "execution_count": 103,
   "id": "5f4486ac",
   "metadata": {},
   "outputs": [
    {
     "data": {
      "text/plain": "     index                    name   company  year   Price  kms_driven  \\\n0        0     Hyundai Santro Xing   Hyundai  2007   80000       45000   \n1        1     Mahindra Jeep CL550  Mahindra  2006  425000          40   \n2        3       Hyundai Grand i10   Hyundai  2014  325000       28000   \n3        4  Ford EcoSport Titanium      Ford  2014  575000       36000   \n4        6               Ford Figo      Ford  2012  175000       41000   \n..     ...                     ...       ...   ...     ...         ...   \n811    883      Maruti Suzuki Ritz    Maruti  2011  270000       50000   \n812    885          Tata Indica V2      Tata  2009  110000       30000   \n813    886    Toyota Corolla Altis    Toyota  2009  300000      132000   \n814    888            Tata Zest XM      Tata  2018  260000       27000   \n815    889      Mahindra Quanto C8  Mahindra  2013  390000       40000   \n\n    fuel_type  \n0      Petrol  \n1      Diesel  \n2      Petrol  \n3      Diesel  \n4      Diesel  \n..        ...  \n811    Petrol  \n812    Diesel  \n813    Petrol  \n814    Diesel  \n815    Diesel  \n\n[816 rows x 7 columns]",
      "text/html": "<div>\n<style scoped>\n    .dataframe tbody tr th:only-of-type {\n        vertical-align: middle;\n    }\n\n    .dataframe tbody tr th {\n        vertical-align: top;\n    }\n\n    .dataframe thead th {\n        text-align: right;\n    }\n</style>\n<table border=\"1\" class=\"dataframe\">\n  <thead>\n    <tr style=\"text-align: right;\">\n      <th></th>\n      <th>index</th>\n      <th>name</th>\n      <th>company</th>\n      <th>year</th>\n      <th>Price</th>\n      <th>kms_driven</th>\n      <th>fuel_type</th>\n    </tr>\n  </thead>\n  <tbody>\n    <tr>\n      <th>0</th>\n      <td>0</td>\n      <td>Hyundai Santro Xing</td>\n      <td>Hyundai</td>\n      <td>2007</td>\n      <td>80000</td>\n      <td>45000</td>\n      <td>Petrol</td>\n    </tr>\n    <tr>\n      <th>1</th>\n      <td>1</td>\n      <td>Mahindra Jeep CL550</td>\n      <td>Mahindra</td>\n      <td>2006</td>\n      <td>425000</td>\n      <td>40</td>\n      <td>Diesel</td>\n    </tr>\n    <tr>\n      <th>2</th>\n      <td>3</td>\n      <td>Hyundai Grand i10</td>\n      <td>Hyundai</td>\n      <td>2014</td>\n      <td>325000</td>\n      <td>28000</td>\n      <td>Petrol</td>\n    </tr>\n    <tr>\n      <th>3</th>\n      <td>4</td>\n      <td>Ford EcoSport Titanium</td>\n      <td>Ford</td>\n      <td>2014</td>\n      <td>575000</td>\n      <td>36000</td>\n      <td>Diesel</td>\n    </tr>\n    <tr>\n      <th>4</th>\n      <td>6</td>\n      <td>Ford Figo</td>\n      <td>Ford</td>\n      <td>2012</td>\n      <td>175000</td>\n      <td>41000</td>\n      <td>Diesel</td>\n    </tr>\n    <tr>\n      <th>...</th>\n      <td>...</td>\n      <td>...</td>\n      <td>...</td>\n      <td>...</td>\n      <td>...</td>\n      <td>...</td>\n      <td>...</td>\n    </tr>\n    <tr>\n      <th>811</th>\n      <td>883</td>\n      <td>Maruti Suzuki Ritz</td>\n      <td>Maruti</td>\n      <td>2011</td>\n      <td>270000</td>\n      <td>50000</td>\n      <td>Petrol</td>\n    </tr>\n    <tr>\n      <th>812</th>\n      <td>885</td>\n      <td>Tata Indica V2</td>\n      <td>Tata</td>\n      <td>2009</td>\n      <td>110000</td>\n      <td>30000</td>\n      <td>Diesel</td>\n    </tr>\n    <tr>\n      <th>813</th>\n      <td>886</td>\n      <td>Toyota Corolla Altis</td>\n      <td>Toyota</td>\n      <td>2009</td>\n      <td>300000</td>\n      <td>132000</td>\n      <td>Petrol</td>\n    </tr>\n    <tr>\n      <th>814</th>\n      <td>888</td>\n      <td>Tata Zest XM</td>\n      <td>Tata</td>\n      <td>2018</td>\n      <td>260000</td>\n      <td>27000</td>\n      <td>Diesel</td>\n    </tr>\n    <tr>\n      <th>815</th>\n      <td>889</td>\n      <td>Mahindra Quanto C8</td>\n      <td>Mahindra</td>\n      <td>2013</td>\n      <td>390000</td>\n      <td>40000</td>\n      <td>Diesel</td>\n    </tr>\n  </tbody>\n</table>\n<p>816 rows × 7 columns</p>\n</div>"
     },
     "execution_count": 103,
     "metadata": {},
     "output_type": "execute_result"
    }
   ],
   "source": [
    "df.reset_index()"
   ]
  },
  {
   "cell_type": "code",
   "execution_count": 81,
   "id": "94d7c233",
   "metadata": {},
   "outputs": [],
   "source": [
    "df.to_csv('cleaned_car.csv')"
   ]
  },
  {
   "cell_type": "markdown",
   "id": "3989d663",
   "metadata": {},
   "source": [
    "# Model"
   ]
  },
  {
   "cell_type": "code",
   "execution_count": 82,
   "id": "e249d876",
   "metadata": {},
   "outputs": [
    {
     "data": {
      "text/plain": "                     name   company  year  kms_driven fuel_type\n0     Hyundai Santro Xing   Hyundai  2007       45000    Petrol\n1     Mahindra Jeep CL550  Mahindra  2006          40    Diesel\n3       Hyundai Grand i10   Hyundai  2014       28000    Petrol\n4  Ford EcoSport Titanium      Ford  2014       36000    Diesel\n6               Ford Figo      Ford  2012       41000    Diesel",
      "text/html": "<div>\n<style scoped>\n    .dataframe tbody tr th:only-of-type {\n        vertical-align: middle;\n    }\n\n    .dataframe tbody tr th {\n        vertical-align: top;\n    }\n\n    .dataframe thead th {\n        text-align: right;\n    }\n</style>\n<table border=\"1\" class=\"dataframe\">\n  <thead>\n    <tr style=\"text-align: right;\">\n      <th></th>\n      <th>name</th>\n      <th>company</th>\n      <th>year</th>\n      <th>kms_driven</th>\n      <th>fuel_type</th>\n    </tr>\n  </thead>\n  <tbody>\n    <tr>\n      <th>0</th>\n      <td>Hyundai Santro Xing</td>\n      <td>Hyundai</td>\n      <td>2007</td>\n      <td>45000</td>\n      <td>Petrol</td>\n    </tr>\n    <tr>\n      <th>1</th>\n      <td>Mahindra Jeep CL550</td>\n      <td>Mahindra</td>\n      <td>2006</td>\n      <td>40</td>\n      <td>Diesel</td>\n    </tr>\n    <tr>\n      <th>3</th>\n      <td>Hyundai Grand i10</td>\n      <td>Hyundai</td>\n      <td>2014</td>\n      <td>28000</td>\n      <td>Petrol</td>\n    </tr>\n    <tr>\n      <th>4</th>\n      <td>Ford EcoSport Titanium</td>\n      <td>Ford</td>\n      <td>2014</td>\n      <td>36000</td>\n      <td>Diesel</td>\n    </tr>\n    <tr>\n      <th>6</th>\n      <td>Ford Figo</td>\n      <td>Ford</td>\n      <td>2012</td>\n      <td>41000</td>\n      <td>Diesel</td>\n    </tr>\n  </tbody>\n</table>\n</div>"
     },
     "execution_count": 82,
     "metadata": {},
     "output_type": "execute_result"
    }
   ],
   "source": [
    "X = df.drop(['Price'],axis = 'columns')\n",
    "X.head()"
   ]
  },
  {
   "cell_type": "code",
   "execution_count": 83,
   "id": "b78f4030",
   "metadata": {},
   "outputs": [
    {
     "data": {
      "text/plain": "0     80000\n1    425000\n3    325000\n4    575000\n6    175000\nName: Price, dtype: int32"
     },
     "execution_count": 83,
     "metadata": {},
     "output_type": "execute_result"
    }
   ],
   "source": [
    "y = df['Price']\n",
    "y.head()"
   ]
  },
  {
   "cell_type": "code",
   "execution_count": 84,
   "id": "3aa17859",
   "metadata": {},
   "outputs": [],
   "source": [
    "from sklearn.model_selection import train_test_split\n",
    "X_train, X_test, y_train, y_test = train_test_split(X,y,test_size=0.2)"
   ]
  },
  {
   "cell_type": "code",
   "execution_count": 85,
   "id": "4827f6b7",
   "metadata": {},
   "outputs": [],
   "source": [
    "from sklearn.linear_model import LinearRegression\n",
    "from sklearn.metrics import r2_score\n",
    "from sklearn.preprocessing import OneHotEncoder"
   ]
  },
  {
   "cell_type": "code",
   "execution_count": 86,
   "id": "0279e7a7",
   "metadata": {},
   "outputs": [
    {
     "data": {
      "text/plain": "OneHotEncoder()",
      "text/html": "<style>#sk-container-id-3 {color: black;background-color: white;}#sk-container-id-3 pre{padding: 0;}#sk-container-id-3 div.sk-toggleable {background-color: white;}#sk-container-id-3 label.sk-toggleable__label {cursor: pointer;display: block;width: 100%;margin-bottom: 0;padding: 0.3em;box-sizing: border-box;text-align: center;}#sk-container-id-3 label.sk-toggleable__label-arrow:before {content: \"▸\";float: left;margin-right: 0.25em;color: #696969;}#sk-container-id-3 label.sk-toggleable__label-arrow:hover:before {color: black;}#sk-container-id-3 div.sk-estimator:hover label.sk-toggleable__label-arrow:before {color: black;}#sk-container-id-3 div.sk-toggleable__content {max-height: 0;max-width: 0;overflow: hidden;text-align: left;background-color: #f0f8ff;}#sk-container-id-3 div.sk-toggleable__content pre {margin: 0.2em;color: black;border-radius: 0.25em;background-color: #f0f8ff;}#sk-container-id-3 input.sk-toggleable__control:checked~div.sk-toggleable__content {max-height: 200px;max-width: 100%;overflow: auto;}#sk-container-id-3 input.sk-toggleable__control:checked~label.sk-toggleable__label-arrow:before {content: \"▾\";}#sk-container-id-3 div.sk-estimator input.sk-toggleable__control:checked~label.sk-toggleable__label {background-color: #d4ebff;}#sk-container-id-3 div.sk-label input.sk-toggleable__control:checked~label.sk-toggleable__label {background-color: #d4ebff;}#sk-container-id-3 input.sk-hidden--visually {border: 0;clip: rect(1px 1px 1px 1px);clip: rect(1px, 1px, 1px, 1px);height: 1px;margin: -1px;overflow: hidden;padding: 0;position: absolute;width: 1px;}#sk-container-id-3 div.sk-estimator {font-family: monospace;background-color: #f0f8ff;border: 1px dotted black;border-radius: 0.25em;box-sizing: border-box;margin-bottom: 0.5em;}#sk-container-id-3 div.sk-estimator:hover {background-color: #d4ebff;}#sk-container-id-3 div.sk-parallel-item::after {content: \"\";width: 100%;border-bottom: 1px solid gray;flex-grow: 1;}#sk-container-id-3 div.sk-label:hover label.sk-toggleable__label {background-color: #d4ebff;}#sk-container-id-3 div.sk-serial::before {content: \"\";position: absolute;border-left: 1px solid gray;box-sizing: border-box;top: 0;bottom: 0;left: 50%;z-index: 0;}#sk-container-id-3 div.sk-serial {display: flex;flex-direction: column;align-items: center;background-color: white;padding-right: 0.2em;padding-left: 0.2em;position: relative;}#sk-container-id-3 div.sk-item {position: relative;z-index: 1;}#sk-container-id-3 div.sk-parallel {display: flex;align-items: stretch;justify-content: center;background-color: white;position: relative;}#sk-container-id-3 div.sk-item::before, #sk-container-id-3 div.sk-parallel-item::before {content: \"\";position: absolute;border-left: 1px solid gray;box-sizing: border-box;top: 0;bottom: 0;left: 50%;z-index: -1;}#sk-container-id-3 div.sk-parallel-item {display: flex;flex-direction: column;z-index: 1;position: relative;background-color: white;}#sk-container-id-3 div.sk-parallel-item:first-child::after {align-self: flex-end;width: 50%;}#sk-container-id-3 div.sk-parallel-item:last-child::after {align-self: flex-start;width: 50%;}#sk-container-id-3 div.sk-parallel-item:only-child::after {width: 0;}#sk-container-id-3 div.sk-dashed-wrapped {border: 1px dashed gray;margin: 0 0.4em 0.5em 0.4em;box-sizing: border-box;padding-bottom: 0.4em;background-color: white;}#sk-container-id-3 div.sk-label label {font-family: monospace;font-weight: bold;display: inline-block;line-height: 1.2em;}#sk-container-id-3 div.sk-label-container {text-align: center;}#sk-container-id-3 div.sk-container {/* jupyter's `normalize.less` sets `[hidden] { display: none; }` but bootstrap.min.css set `[hidden] { display: none !important; }` so we also need the `!important` here to be able to override the default hidden behavior on the sphinx rendered scikit-learn.org. See: https://github.com/scikit-learn/scikit-learn/issues/21755 */display: inline-block !important;position: relative;}#sk-container-id-3 div.sk-text-repr-fallback {display: none;}</style><div id=\"sk-container-id-3\" class=\"sk-top-container\"><div class=\"sk-text-repr-fallback\"><pre>OneHotEncoder()</pre><b>In a Jupyter environment, please rerun this cell to show the HTML representation or trust the notebook. <br />On GitHub, the HTML representation is unable to render, please try loading this page with nbviewer.org.</b></div><div class=\"sk-container\" hidden><div class=\"sk-item\"><div class=\"sk-estimator sk-toggleable\"><input class=\"sk-toggleable__control sk-hidden--visually\" id=\"sk-estimator-id-9\" type=\"checkbox\" checked><label for=\"sk-estimator-id-9\" class=\"sk-toggleable__label sk-toggleable__label-arrow\">OneHotEncoder</label><div class=\"sk-toggleable__content\"><pre>OneHotEncoder()</pre></div></div></div></div></div>"
     },
     "execution_count": 86,
     "metadata": {},
     "output_type": "execute_result"
    }
   ],
   "source": [
    "ohe = OneHotEncoder()\n",
    "ohe.fit(X[['name','company','fuel_type']])"
   ]
  },
  {
   "cell_type": "code",
   "execution_count": 87,
   "id": "dbc2d2b7",
   "metadata": {},
   "outputs": [
    {
     "data": {
      "text/plain": "[array(['Audi A3 Cabriolet', 'Audi A4 1.8', 'Audi A4 2.0', 'Audi A6 2.0',\n        'Audi A8', 'Audi Q3 2.0', 'Audi Q5 2.0', 'Audi Q7', 'BMW 3 Series',\n        'BMW 5 Series', 'BMW 7 Series', 'BMW X1', 'BMW X1 sDrive20d',\n        'BMW X1 xDrive20d', 'Chevrolet Beat', 'Chevrolet Beat Diesel',\n        'Chevrolet Beat LS', 'Chevrolet Beat LT', 'Chevrolet Beat PS',\n        'Chevrolet Cruze LTZ', 'Chevrolet Enjoy', 'Chevrolet Enjoy 1.4',\n        'Chevrolet Sail 1.2', 'Chevrolet Sail UVA', 'Chevrolet Spark',\n        'Chevrolet Spark 1.0', 'Chevrolet Spark LS', 'Chevrolet Spark LT',\n        'Chevrolet Tavera LS', 'Chevrolet Tavera Neo', 'Datsun GO T',\n        'Datsun Go Plus', 'Datsun Redi GO', 'Fiat Linea Emotion',\n        'Fiat Petra ELX', 'Fiat Punto Emotion', 'Force Motors Force',\n        'Force Motors One', 'Ford EcoSport', 'Ford EcoSport Ambiente',\n        'Ford EcoSport Titanium', 'Ford EcoSport Trend',\n        'Ford Endeavor 4x4', 'Ford Fiesta', 'Ford Fiesta SXi', 'Ford Figo',\n        'Ford Figo Diesel', 'Ford Figo Duratorq', 'Ford Figo Petrol',\n        'Ford Fusion 1.4', 'Ford Ikon 1.3', 'Ford Ikon 1.6',\n        'Hindustan Motors Ambassador', 'Honda Accord', 'Honda Amaze',\n        'Honda Amaze 1.2', 'Honda Amaze 1.5', 'Honda Brio', 'Honda Brio V',\n        'Honda Brio VX', 'Honda City', 'Honda City 1.5', 'Honda City SV',\n        'Honda City VX', 'Honda City ZX', 'Honda Jazz S', 'Honda Jazz VX',\n        'Honda Mobilio', 'Honda Mobilio S', 'Honda WR V', 'Hyundai Accent',\n        'Hyundai Accent Executive', 'Hyundai Accent GLE',\n        'Hyundai Accent GLX', 'Hyundai Creta', 'Hyundai Creta 1.6',\n        'Hyundai Elantra 1.8', 'Hyundai Elantra SX', 'Hyundai Elite i20',\n        'Hyundai Eon', 'Hyundai Eon D', 'Hyundai Eon Era',\n        'Hyundai Eon Magna', 'Hyundai Eon Sportz', 'Hyundai Fluidic Verna',\n        'Hyundai Getz', 'Hyundai Getz GLE', 'Hyundai Getz Prime',\n        'Hyundai Grand i10', 'Hyundai Santro', 'Hyundai Santro AE',\n        'Hyundai Santro Xing', 'Hyundai Sonata Transform', 'Hyundai Verna',\n        'Hyundai Verna 1.4', 'Hyundai Verna 1.6', 'Hyundai Verna Fluidic',\n        'Hyundai Verna Transform', 'Hyundai Verna VGT',\n        'Hyundai Xcent Base', 'Hyundai Xcent SX', 'Hyundai i10',\n        'Hyundai i10 Era', 'Hyundai i10 Magna', 'Hyundai i10 Sportz',\n        'Hyundai i20', 'Hyundai i20 Active', 'Hyundai i20 Asta',\n        'Hyundai i20 Magna', 'Hyundai i20 Select', 'Hyundai i20 Sportz',\n        'Jaguar XE XE', 'Jaguar XF 2.2', 'Jeep Wrangler Unlimited',\n        'Land Rover Freelander', 'Mahindra Bolero DI',\n        'Mahindra Bolero Power', 'Mahindra Bolero SLE',\n        'Mahindra Jeep CL550', 'Mahindra Jeep MM', 'Mahindra KUV100',\n        'Mahindra KUV100 K8', 'Mahindra Logan', 'Mahindra Logan Diesel',\n        'Mahindra Quanto C4', 'Mahindra Quanto C8', 'Mahindra Scorpio',\n        'Mahindra Scorpio 2.6', 'Mahindra Scorpio LX',\n        'Mahindra Scorpio S10', 'Mahindra Scorpio S4',\n        'Mahindra Scorpio SLE', 'Mahindra Scorpio SLX',\n        'Mahindra Scorpio VLX', 'Mahindra Scorpio Vlx',\n        'Mahindra Scorpio W', 'Mahindra TUV300 T4', 'Mahindra TUV300 T8',\n        'Mahindra Thar CRDe', 'Mahindra XUV500', 'Mahindra XUV500 W10',\n        'Mahindra XUV500 W6', 'Mahindra XUV500 W8', 'Mahindra Xylo D2',\n        'Mahindra Xylo E4', 'Mahindra Xylo E8', 'Maruti Suzuki 800',\n        'Maruti Suzuki A', 'Maruti Suzuki Alto', 'Maruti Suzuki Baleno',\n        'Maruti Suzuki Celerio', 'Maruti Suzuki Ciaz',\n        'Maruti Suzuki Dzire', 'Maruti Suzuki Eeco',\n        'Maruti Suzuki Ertiga', 'Maruti Suzuki Esteem',\n        'Maruti Suzuki Estilo', 'Maruti Suzuki Maruti',\n        'Maruti Suzuki Omni', 'Maruti Suzuki Ritz', 'Maruti Suzuki S',\n        'Maruti Suzuki SX4', 'Maruti Suzuki Stingray',\n        'Maruti Suzuki Swift', 'Maruti Suzuki Versa',\n        'Maruti Suzuki Vitara', 'Maruti Suzuki Wagon', 'Maruti Suzuki Zen',\n        'Mercedes Benz A', 'Mercedes Benz B', 'Mercedes Benz C',\n        'Mercedes Benz GLA', 'Mini Cooper S', 'Mitsubishi Lancer 1.8',\n        'Mitsubishi Pajero Sport', 'Nissan Micra XL', 'Nissan Micra XV',\n        'Nissan Sunny', 'Nissan Sunny XL', 'Nissan Terrano XL',\n        'Nissan X Trail', 'Renault Duster', 'Renault Duster 110',\n        'Renault Duster 110PS', 'Renault Duster 85', 'Renault Duster 85PS',\n        'Renault Duster RxL', 'Renault Kwid', 'Renault Kwid 1.0',\n        'Renault Kwid RXT', 'Renault Lodgy 85', 'Renault Scala RxL',\n        'Skoda Fabia', 'Skoda Fabia 1.2L', 'Skoda Fabia Classic',\n        'Skoda Laura', 'Skoda Octavia Classic', 'Skoda Rapid Elegance',\n        'Skoda Superb 1.8', 'Skoda Yeti Ambition', 'Tata Aria Pleasure',\n        'Tata Bolt XM', 'Tata Indica', 'Tata Indica V2', 'Tata Indica eV2',\n        'Tata Indigo CS', 'Tata Indigo LS', 'Tata Indigo LX',\n        'Tata Indigo Marina', 'Tata Indigo eCS', 'Tata Manza',\n        'Tata Manza Aqua', 'Tata Manza Aura', 'Tata Manza ELAN',\n        'Tata Nano', 'Tata Nano Cx', 'Tata Nano GenX', 'Tata Nano LX',\n        'Tata Nano Lx', 'Tata Sumo Gold', 'Tata Sumo Grande',\n        'Tata Sumo Victa', 'Tata Tiago Revotorq', 'Tata Tiago Revotron',\n        'Tata Tigor Revotron', 'Tata Venture EX', 'Tata Vista Quadrajet',\n        'Tata Zest Quadrajet', 'Tata Zest XE', 'Tata Zest XM',\n        'Toyota Corolla', 'Toyota Corolla Altis', 'Toyota Corolla H2',\n        'Toyota Etios', 'Toyota Etios G', 'Toyota Etios GD',\n        'Toyota Etios Liva', 'Toyota Fortuner', 'Toyota Fortuner 3.0',\n        'Toyota Innova 2.0', 'Toyota Innova 2.5', 'Toyota Qualis',\n        'Volkswagen Jetta Comfortline', 'Volkswagen Jetta Highline',\n        'Volkswagen Passat Diesel', 'Volkswagen Polo',\n        'Volkswagen Polo Comfortline', 'Volkswagen Polo Highline',\n        'Volkswagen Polo Highline1.2L', 'Volkswagen Polo Trendline',\n        'Volkswagen Vento Comfortline', 'Volkswagen Vento Highline',\n        'Volkswagen Vento Konekt', 'Volvo S80 Summum'], dtype=object),\n array(['Audi', 'BMW', 'Chevrolet', 'Datsun', 'Fiat', 'Force', 'Ford',\n        'Hindustan', 'Honda', 'Hyundai', 'Jaguar', 'Jeep', 'Land',\n        'Mahindra', 'Maruti', 'Mercedes', 'Mini', 'Mitsubishi', 'Nissan',\n        'Renault', 'Skoda', 'Tata', 'Toyota', 'Volkswagen', 'Volvo'],\n       dtype=object),\n array(['Diesel', 'LPG', 'Petrol'], dtype=object)]"
     },
     "execution_count": 87,
     "metadata": {},
     "output_type": "execute_result"
    }
   ],
   "source": [
    "ohe.categories_"
   ]
  },
  {
   "cell_type": "code",
   "execution_count": 88,
   "id": "33d5ab3a",
   "metadata": {},
   "outputs": [],
   "source": [
    "from sklearn.compose import make_column_transformer\n",
    "from sklearn.pipeline import make_pipeline"
   ]
  },
  {
   "cell_type": "code",
   "execution_count": 89,
   "id": "1113cfe5",
   "metadata": {},
   "outputs": [],
   "source": [
    "colum_trans = make_column_transformer((OneHotEncoder(categories=ohe.categories_),['name','company','fuel_type']),remainder='passthrough')"
   ]
  },
  {
   "cell_type": "code",
   "execution_count": 90,
   "id": "6335648e",
   "metadata": {},
   "outputs": [],
   "source": [
    "model = LinearRegression()"
   ]
  },
  {
   "cell_type": "code",
   "execution_count": 104,
   "id": "2354bbfd",
   "metadata": {},
   "outputs": [],
   "source": [
    "pipe = make_pipeline(colum_trans,model)"
   ]
  },
  {
   "cell_type": "code",
   "execution_count": 105,
   "id": "34baeea5",
   "metadata": {},
   "outputs": [
    {
     "data": {
      "text/plain": "Pipeline(steps=[('columntransformer',\n                 ColumnTransformer(remainder='passthrough',\n                                   transformers=[('onehotencoder',\n                                                  OneHotEncoder(categories=[array(['Audi A3 Cabriolet', 'Audi A4 1.8', 'Audi A4 2.0', 'Audi A6 2.0',\n       'Audi A8', 'Audi Q3 2.0', 'Audi Q5 2.0', 'Audi Q7', 'BMW 3 Series',\n       'BMW 5 Series', 'BMW 7 Series', 'BMW X1', 'BMW X1 sDrive20d',\n       'BMW X1 xDrive20d', 'Chevrolet Beat', 'Chevrolet Beat...\n                                                                            array(['Audi', 'BMW', 'Chevrolet', 'Datsun', 'Fiat', 'Force', 'Ford',\n       'Hindustan', 'Honda', 'Hyundai', 'Jaguar', 'Jeep', 'Land',\n       'Mahindra', 'Maruti', 'Mercedes', 'Mini', 'Mitsubishi', 'Nissan',\n       'Renault', 'Skoda', 'Tata', 'Toyota', 'Volkswagen', 'Volvo'],\n      dtype=object),\n                                                                            array(['Diesel', 'LPG', 'Petrol'], dtype=object)]),\n                                                  ['name', 'company',\n                                                   'fuel_type'])])),\n                ('linearregression', LinearRegression())])",
      "text/html": "<style>#sk-container-id-5 {color: black;background-color: white;}#sk-container-id-5 pre{padding: 0;}#sk-container-id-5 div.sk-toggleable {background-color: white;}#sk-container-id-5 label.sk-toggleable__label {cursor: pointer;display: block;width: 100%;margin-bottom: 0;padding: 0.3em;box-sizing: border-box;text-align: center;}#sk-container-id-5 label.sk-toggleable__label-arrow:before {content: \"▸\";float: left;margin-right: 0.25em;color: #696969;}#sk-container-id-5 label.sk-toggleable__label-arrow:hover:before {color: black;}#sk-container-id-5 div.sk-estimator:hover label.sk-toggleable__label-arrow:before {color: black;}#sk-container-id-5 div.sk-toggleable__content {max-height: 0;max-width: 0;overflow: hidden;text-align: left;background-color: #f0f8ff;}#sk-container-id-5 div.sk-toggleable__content pre {margin: 0.2em;color: black;border-radius: 0.25em;background-color: #f0f8ff;}#sk-container-id-5 input.sk-toggleable__control:checked~div.sk-toggleable__content {max-height: 200px;max-width: 100%;overflow: auto;}#sk-container-id-5 input.sk-toggleable__control:checked~label.sk-toggleable__label-arrow:before {content: \"▾\";}#sk-container-id-5 div.sk-estimator input.sk-toggleable__control:checked~label.sk-toggleable__label {background-color: #d4ebff;}#sk-container-id-5 div.sk-label input.sk-toggleable__control:checked~label.sk-toggleable__label {background-color: #d4ebff;}#sk-container-id-5 input.sk-hidden--visually {border: 0;clip: rect(1px 1px 1px 1px);clip: rect(1px, 1px, 1px, 1px);height: 1px;margin: -1px;overflow: hidden;padding: 0;position: absolute;width: 1px;}#sk-container-id-5 div.sk-estimator {font-family: monospace;background-color: #f0f8ff;border: 1px dotted black;border-radius: 0.25em;box-sizing: border-box;margin-bottom: 0.5em;}#sk-container-id-5 div.sk-estimator:hover {background-color: #d4ebff;}#sk-container-id-5 div.sk-parallel-item::after {content: \"\";width: 100%;border-bottom: 1px solid gray;flex-grow: 1;}#sk-container-id-5 div.sk-label:hover label.sk-toggleable__label {background-color: #d4ebff;}#sk-container-id-5 div.sk-serial::before {content: \"\";position: absolute;border-left: 1px solid gray;box-sizing: border-box;top: 0;bottom: 0;left: 50%;z-index: 0;}#sk-container-id-5 div.sk-serial {display: flex;flex-direction: column;align-items: center;background-color: white;padding-right: 0.2em;padding-left: 0.2em;position: relative;}#sk-container-id-5 div.sk-item {position: relative;z-index: 1;}#sk-container-id-5 div.sk-parallel {display: flex;align-items: stretch;justify-content: center;background-color: white;position: relative;}#sk-container-id-5 div.sk-item::before, #sk-container-id-5 div.sk-parallel-item::before {content: \"\";position: absolute;border-left: 1px solid gray;box-sizing: border-box;top: 0;bottom: 0;left: 50%;z-index: -1;}#sk-container-id-5 div.sk-parallel-item {display: flex;flex-direction: column;z-index: 1;position: relative;background-color: white;}#sk-container-id-5 div.sk-parallel-item:first-child::after {align-self: flex-end;width: 50%;}#sk-container-id-5 div.sk-parallel-item:last-child::after {align-self: flex-start;width: 50%;}#sk-container-id-5 div.sk-parallel-item:only-child::after {width: 0;}#sk-container-id-5 div.sk-dashed-wrapped {border: 1px dashed gray;margin: 0 0.4em 0.5em 0.4em;box-sizing: border-box;padding-bottom: 0.4em;background-color: white;}#sk-container-id-5 div.sk-label label {font-family: monospace;font-weight: bold;display: inline-block;line-height: 1.2em;}#sk-container-id-5 div.sk-label-container {text-align: center;}#sk-container-id-5 div.sk-container {/* jupyter's `normalize.less` sets `[hidden] { display: none; }` but bootstrap.min.css set `[hidden] { display: none !important; }` so we also need the `!important` here to be able to override the default hidden behavior on the sphinx rendered scikit-learn.org. See: https://github.com/scikit-learn/scikit-learn/issues/21755 */display: inline-block !important;position: relative;}#sk-container-id-5 div.sk-text-repr-fallback {display: none;}</style><div id=\"sk-container-id-5\" class=\"sk-top-container\"><div class=\"sk-text-repr-fallback\"><pre>Pipeline(steps=[(&#x27;columntransformer&#x27;,\n                 ColumnTransformer(remainder=&#x27;passthrough&#x27;,\n                                   transformers=[(&#x27;onehotencoder&#x27;,\n                                                  OneHotEncoder(categories=[array([&#x27;Audi A3 Cabriolet&#x27;, &#x27;Audi A4 1.8&#x27;, &#x27;Audi A4 2.0&#x27;, &#x27;Audi A6 2.0&#x27;,\n       &#x27;Audi A8&#x27;, &#x27;Audi Q3 2.0&#x27;, &#x27;Audi Q5 2.0&#x27;, &#x27;Audi Q7&#x27;, &#x27;BMW 3 Series&#x27;,\n       &#x27;BMW 5 Series&#x27;, &#x27;BMW 7 Series&#x27;, &#x27;BMW X1&#x27;, &#x27;BMW X1 sDrive20d&#x27;,\n       &#x27;BMW X1 xDrive20d&#x27;, &#x27;Chevrolet Beat&#x27;, &#x27;Chevrolet Beat...\n                                                                            array([&#x27;Audi&#x27;, &#x27;BMW&#x27;, &#x27;Chevrolet&#x27;, &#x27;Datsun&#x27;, &#x27;Fiat&#x27;, &#x27;Force&#x27;, &#x27;Ford&#x27;,\n       &#x27;Hindustan&#x27;, &#x27;Honda&#x27;, &#x27;Hyundai&#x27;, &#x27;Jaguar&#x27;, &#x27;Jeep&#x27;, &#x27;Land&#x27;,\n       &#x27;Mahindra&#x27;, &#x27;Maruti&#x27;, &#x27;Mercedes&#x27;, &#x27;Mini&#x27;, &#x27;Mitsubishi&#x27;, &#x27;Nissan&#x27;,\n       &#x27;Renault&#x27;, &#x27;Skoda&#x27;, &#x27;Tata&#x27;, &#x27;Toyota&#x27;, &#x27;Volkswagen&#x27;, &#x27;Volvo&#x27;],\n      dtype=object),\n                                                                            array([&#x27;Diesel&#x27;, &#x27;LPG&#x27;, &#x27;Petrol&#x27;], dtype=object)]),\n                                                  [&#x27;name&#x27;, &#x27;company&#x27;,\n                                                   &#x27;fuel_type&#x27;])])),\n                (&#x27;linearregression&#x27;, LinearRegression())])</pre><b>In a Jupyter environment, please rerun this cell to show the HTML representation or trust the notebook. <br />On GitHub, the HTML representation is unable to render, please try loading this page with nbviewer.org.</b></div><div class=\"sk-container\" hidden><div class=\"sk-item sk-dashed-wrapped\"><div class=\"sk-label-container\"><div class=\"sk-label sk-toggleable\"><input class=\"sk-toggleable__control sk-hidden--visually\" id=\"sk-estimator-id-17\" type=\"checkbox\" ><label for=\"sk-estimator-id-17\" class=\"sk-toggleable__label sk-toggleable__label-arrow\">Pipeline</label><div class=\"sk-toggleable__content\"><pre>Pipeline(steps=[(&#x27;columntransformer&#x27;,\n                 ColumnTransformer(remainder=&#x27;passthrough&#x27;,\n                                   transformers=[(&#x27;onehotencoder&#x27;,\n                                                  OneHotEncoder(categories=[array([&#x27;Audi A3 Cabriolet&#x27;, &#x27;Audi A4 1.8&#x27;, &#x27;Audi A4 2.0&#x27;, &#x27;Audi A6 2.0&#x27;,\n       &#x27;Audi A8&#x27;, &#x27;Audi Q3 2.0&#x27;, &#x27;Audi Q5 2.0&#x27;, &#x27;Audi Q7&#x27;, &#x27;BMW 3 Series&#x27;,\n       &#x27;BMW 5 Series&#x27;, &#x27;BMW 7 Series&#x27;, &#x27;BMW X1&#x27;, &#x27;BMW X1 sDrive20d&#x27;,\n       &#x27;BMW X1 xDrive20d&#x27;, &#x27;Chevrolet Beat&#x27;, &#x27;Chevrolet Beat...\n                                                                            array([&#x27;Audi&#x27;, &#x27;BMW&#x27;, &#x27;Chevrolet&#x27;, &#x27;Datsun&#x27;, &#x27;Fiat&#x27;, &#x27;Force&#x27;, &#x27;Ford&#x27;,\n       &#x27;Hindustan&#x27;, &#x27;Honda&#x27;, &#x27;Hyundai&#x27;, &#x27;Jaguar&#x27;, &#x27;Jeep&#x27;, &#x27;Land&#x27;,\n       &#x27;Mahindra&#x27;, &#x27;Maruti&#x27;, &#x27;Mercedes&#x27;, &#x27;Mini&#x27;, &#x27;Mitsubishi&#x27;, &#x27;Nissan&#x27;,\n       &#x27;Renault&#x27;, &#x27;Skoda&#x27;, &#x27;Tata&#x27;, &#x27;Toyota&#x27;, &#x27;Volkswagen&#x27;, &#x27;Volvo&#x27;],\n      dtype=object),\n                                                                            array([&#x27;Diesel&#x27;, &#x27;LPG&#x27;, &#x27;Petrol&#x27;], dtype=object)]),\n                                                  [&#x27;name&#x27;, &#x27;company&#x27;,\n                                                   &#x27;fuel_type&#x27;])])),\n                (&#x27;linearregression&#x27;, LinearRegression())])</pre></div></div></div><div class=\"sk-serial\"><div class=\"sk-item sk-dashed-wrapped\"><div class=\"sk-label-container\"><div class=\"sk-label sk-toggleable\"><input class=\"sk-toggleable__control sk-hidden--visually\" id=\"sk-estimator-id-18\" type=\"checkbox\" ><label for=\"sk-estimator-id-18\" class=\"sk-toggleable__label sk-toggleable__label-arrow\">columntransformer: ColumnTransformer</label><div class=\"sk-toggleable__content\"><pre>ColumnTransformer(remainder=&#x27;passthrough&#x27;,\n                  transformers=[(&#x27;onehotencoder&#x27;,\n                                 OneHotEncoder(categories=[array([&#x27;Audi A3 Cabriolet&#x27;, &#x27;Audi A4 1.8&#x27;, &#x27;Audi A4 2.0&#x27;, &#x27;Audi A6 2.0&#x27;,\n       &#x27;Audi A8&#x27;, &#x27;Audi Q3 2.0&#x27;, &#x27;Audi Q5 2.0&#x27;, &#x27;Audi Q7&#x27;, &#x27;BMW 3 Series&#x27;,\n       &#x27;BMW 5 Series&#x27;, &#x27;BMW 7 Series&#x27;, &#x27;BMW X1&#x27;, &#x27;BMW X1 sDrive20d&#x27;,\n       &#x27;BMW X1 xDrive20d&#x27;, &#x27;Chevrolet Beat&#x27;, &#x27;Chevrolet Beat Diesel&#x27;,\n       &#x27;Chevrolet Beat LS&#x27;, &#x27;Chevrolet B...\n       &#x27;Volkswagen Vento Konekt&#x27;, &#x27;Volvo S80 Summum&#x27;], dtype=object),\n                                                           array([&#x27;Audi&#x27;, &#x27;BMW&#x27;, &#x27;Chevrolet&#x27;, &#x27;Datsun&#x27;, &#x27;Fiat&#x27;, &#x27;Force&#x27;, &#x27;Ford&#x27;,\n       &#x27;Hindustan&#x27;, &#x27;Honda&#x27;, &#x27;Hyundai&#x27;, &#x27;Jaguar&#x27;, &#x27;Jeep&#x27;, &#x27;Land&#x27;,\n       &#x27;Mahindra&#x27;, &#x27;Maruti&#x27;, &#x27;Mercedes&#x27;, &#x27;Mini&#x27;, &#x27;Mitsubishi&#x27;, &#x27;Nissan&#x27;,\n       &#x27;Renault&#x27;, &#x27;Skoda&#x27;, &#x27;Tata&#x27;, &#x27;Toyota&#x27;, &#x27;Volkswagen&#x27;, &#x27;Volvo&#x27;],\n      dtype=object),\n                                                           array([&#x27;Diesel&#x27;, &#x27;LPG&#x27;, &#x27;Petrol&#x27;], dtype=object)]),\n                                 [&#x27;name&#x27;, &#x27;company&#x27;, &#x27;fuel_type&#x27;])])</pre></div></div></div><div class=\"sk-parallel\"><div class=\"sk-parallel-item\"><div class=\"sk-item\"><div class=\"sk-label-container\"><div class=\"sk-label sk-toggleable\"><input class=\"sk-toggleable__control sk-hidden--visually\" id=\"sk-estimator-id-19\" type=\"checkbox\" ><label for=\"sk-estimator-id-19\" class=\"sk-toggleable__label sk-toggleable__label-arrow\">onehotencoder</label><div class=\"sk-toggleable__content\"><pre>[&#x27;name&#x27;, &#x27;company&#x27;, &#x27;fuel_type&#x27;]</pre></div></div></div><div class=\"sk-serial\"><div class=\"sk-item\"><div class=\"sk-estimator sk-toggleable\"><input class=\"sk-toggleable__control sk-hidden--visually\" id=\"sk-estimator-id-20\" type=\"checkbox\" ><label for=\"sk-estimator-id-20\" class=\"sk-toggleable__label sk-toggleable__label-arrow\">OneHotEncoder</label><div class=\"sk-toggleable__content\"><pre>OneHotEncoder(categories=[array([&#x27;Audi A3 Cabriolet&#x27;, &#x27;Audi A4 1.8&#x27;, &#x27;Audi A4 2.0&#x27;, &#x27;Audi A6 2.0&#x27;,\n       &#x27;Audi A8&#x27;, &#x27;Audi Q3 2.0&#x27;, &#x27;Audi Q5 2.0&#x27;, &#x27;Audi Q7&#x27;, &#x27;BMW 3 Series&#x27;,\n       &#x27;BMW 5 Series&#x27;, &#x27;BMW 7 Series&#x27;, &#x27;BMW X1&#x27;, &#x27;BMW X1 sDrive20d&#x27;,\n       &#x27;BMW X1 xDrive20d&#x27;, &#x27;Chevrolet Beat&#x27;, &#x27;Chevrolet Beat Diesel&#x27;,\n       &#x27;Chevrolet Beat LS&#x27;, &#x27;Chevrolet Beat LT&#x27;, &#x27;Chevrolet Beat PS&#x27;,\n       &#x27;Chevrolet Cruze LTZ&#x27;, &#x27;Chevrolet Enjoy&#x27;, &#x27;Chevrolet E...\n       &#x27;Volkswagen Vento Comfortline&#x27;, &#x27;Volkswagen Vento Highline&#x27;,\n       &#x27;Volkswagen Vento Konekt&#x27;, &#x27;Volvo S80 Summum&#x27;], dtype=object),\n                          array([&#x27;Audi&#x27;, &#x27;BMW&#x27;, &#x27;Chevrolet&#x27;, &#x27;Datsun&#x27;, &#x27;Fiat&#x27;, &#x27;Force&#x27;, &#x27;Ford&#x27;,\n       &#x27;Hindustan&#x27;, &#x27;Honda&#x27;, &#x27;Hyundai&#x27;, &#x27;Jaguar&#x27;, &#x27;Jeep&#x27;, &#x27;Land&#x27;,\n       &#x27;Mahindra&#x27;, &#x27;Maruti&#x27;, &#x27;Mercedes&#x27;, &#x27;Mini&#x27;, &#x27;Mitsubishi&#x27;, &#x27;Nissan&#x27;,\n       &#x27;Renault&#x27;, &#x27;Skoda&#x27;, &#x27;Tata&#x27;, &#x27;Toyota&#x27;, &#x27;Volkswagen&#x27;, &#x27;Volvo&#x27;],\n      dtype=object),\n                          array([&#x27;Diesel&#x27;, &#x27;LPG&#x27;, &#x27;Petrol&#x27;], dtype=object)])</pre></div></div></div></div></div></div><div class=\"sk-parallel-item\"><div class=\"sk-item\"><div class=\"sk-label-container\"><div class=\"sk-label sk-toggleable\"><input class=\"sk-toggleable__control sk-hidden--visually\" id=\"sk-estimator-id-21\" type=\"checkbox\" ><label for=\"sk-estimator-id-21\" class=\"sk-toggleable__label sk-toggleable__label-arrow\">remainder</label><div class=\"sk-toggleable__content\"><pre>[&#x27;year&#x27;, &#x27;kms_driven&#x27;]</pre></div></div></div><div class=\"sk-serial\"><div class=\"sk-item\"><div class=\"sk-estimator sk-toggleable\"><input class=\"sk-toggleable__control sk-hidden--visually\" id=\"sk-estimator-id-22\" type=\"checkbox\" ><label for=\"sk-estimator-id-22\" class=\"sk-toggleable__label sk-toggleable__label-arrow\">passthrough</label><div class=\"sk-toggleable__content\"><pre>passthrough</pre></div></div></div></div></div></div></div></div><div class=\"sk-item\"><div class=\"sk-estimator sk-toggleable\"><input class=\"sk-toggleable__control sk-hidden--visually\" id=\"sk-estimator-id-23\" type=\"checkbox\" ><label for=\"sk-estimator-id-23\" class=\"sk-toggleable__label sk-toggleable__label-arrow\">LinearRegression</label><div class=\"sk-toggleable__content\"><pre>LinearRegression()</pre></div></div></div></div></div></div></div>"
     },
     "execution_count": 105,
     "metadata": {},
     "output_type": "execute_result"
    }
   ],
   "source": [
    "pipe.fit(X_train,y_train)"
   ]
  },
  {
   "cell_type": "code",
   "execution_count": 106,
   "id": "ba1cf3d4",
   "metadata": {},
   "outputs": [],
   "source": [
    "y_pred = pipe.predict(X_test)"
   ]
  },
  {
   "cell_type": "code",
   "execution_count": 107,
   "id": "5f06e5c8",
   "metadata": {},
   "outputs": [],
   "source": [
    "score=[]\n",
    "for i in range(1000):\n",
    "    X_train, X_test, y_train, y_test = train_test_split(X,y,test_size=0.2,random_state=i)\n",
    "    lr = LinearRegression()\n",
    "    pipe=make_pipeline(colum_trans,lr)\n",
    "    pipe.fit(X_train,y_train)\n",
    "    y_pred = pipe.predict(X_test)\n",
    "    score.append(r2_score(y_test,y_pred))"
   ]
  },
  {
   "cell_type": "code",
   "execution_count": 108,
   "id": "051b3d37",
   "metadata": {},
   "outputs": [],
   "source": [
    "maxi = np.argmax(score)"
   ]
  },
  {
   "cell_type": "code",
   "execution_count": 109,
   "id": "e36b27f7",
   "metadata": {},
   "outputs": [
    {
     "data": {
      "text/plain": "0.7768125045875028"
     },
     "execution_count": 109,
     "metadata": {},
     "output_type": "execute_result"
    }
   ],
   "source": [
    "score[np.argmax(score)]"
   ]
  },
  {
   "cell_type": "code",
   "execution_count": 110,
   "id": "f580d4ba",
   "metadata": {},
   "outputs": [
    {
     "data": {
      "text/plain": "906"
     },
     "execution_count": 110,
     "metadata": {},
     "output_type": "execute_result"
    }
   ],
   "source": [
    "maxi"
   ]
  },
  {
   "cell_type": "code",
   "execution_count": 111,
   "id": "43f047a7",
   "metadata": {},
   "outputs": [
    {
     "data": {
      "text/plain": "0.7768125045875028"
     },
     "execution_count": 111,
     "metadata": {},
     "output_type": "execute_result"
    }
   ],
   "source": [
    "X_train, X_test, y_train, y_test = train_test_split(X,y,test_size=0.2,random_state=np.argmax(score))\n",
    "lr = LinearRegression()\n",
    "pipe=make_pipeline(colum_trans,lr)\n",
    "pipe.fit(X_train,y_train)\n",
    "y_pred = pipe.predict(X_test)\n",
    "r2_score(y_test,y_pred)"
   ]
  },
  {
   "cell_type": "code",
   "execution_count": 112,
   "id": "d1adab63",
   "metadata": {},
   "outputs": [],
   "source": [
    "import pickle"
   ]
  },
  {
   "cell_type": "code",
   "execution_count": 113,
   "id": "d1268b29",
   "metadata": {},
   "outputs": [],
   "source": [
    "pickle.dump(pipe,open('LinearRegressionModel.pkl','wb'))"
   ]
  },
  {
   "cell_type": "code",
   "execution_count": 114,
   "id": "e15b1f52",
   "metadata": {},
   "outputs": [
    {
     "data": {
      "text/plain": "array([1470666.57491679])"
     },
     "execution_count": 114,
     "metadata": {},
     "output_type": "execute_result"
    }
   ],
   "source": [
    "pipe.predict(pd.DataFrame([['Mercedes Benz C','Mercedes',2019,0,'Diesel']],columns=['name','company','year','kms_driven','fuel_type']))"
   ]
  },
  {
   "cell_type": "code",
   "execution_count": null,
   "outputs": [],
   "source": [],
   "metadata": {
    "collapsed": false,
    "pycharm": {
     "is_executing": true
    }
   }
  },
  {
   "cell_type": "code",
   "execution_count": 114,
   "outputs": [],
   "source": [],
   "metadata": {
    "collapsed": false
   }
  }
 ],
 "metadata": {
  "kernelspec": {
   "display_name": "Python 3 (ipykernel)",
   "language": "python",
   "name": "python3"
  },
  "language_info": {
   "codemirror_mode": {
    "name": "ipython",
    "version": 3
   },
   "file_extension": ".py",
   "mimetype": "text/x-python",
   "name": "python",
   "nbconvert_exporter": "python",
   "pygments_lexer": "ipython3",
   "version": "3.9.13"
  }
 },
 "nbformat": 4,
 "nbformat_minor": 5
}
